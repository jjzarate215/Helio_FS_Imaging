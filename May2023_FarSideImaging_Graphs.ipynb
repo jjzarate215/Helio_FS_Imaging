{
 "cells": [
  {
   "cell_type": "code",
   "execution_count": null,
   "metadata": {},
   "outputs": [],
   "source": [
    "# Jon Zarate\n",
    "# Shea A. Hess Webber\n",
    "# Milo Buitrago-Casas\n",
    "# Exploring the Unseen Sun\n",
    "# Date Created: 06-21-2023\n",
    "#\n",
    "#\n",
    "#\n",
    "\n"
   ]
  }
 ],
 "metadata": {
  "kernelspec": {
   "display_name": "base",
   "language": "python",
   "name": "python3"
  },
  "language_info": {
   "name": "python",
   "version": "3.10.9"
  },
  "orig_nbformat": 4
 },
 "nbformat": 4,
 "nbformat_minor": 2
}
